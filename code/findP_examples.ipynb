{
 "cells": [
  {
   "cell_type": "markdown",
   "id": "92991210",
   "metadata": {},
   "source": [
    "# Example uses of findP()\n",
    "\n",
    "(Make sure you have the **lpSolve** package installed.)"
   ]
  },
  {
   "cell_type": "code",
   "execution_count": 16,
   "id": "7cab4ff6",
   "metadata": {},
   "outputs": [],
   "source": [
    "source('findP.R')"
   ]
  },
  {
   "cell_type": "markdown",
   "id": "b721f32b",
   "metadata": {},
   "source": [
    "\n",
    "`findP()` takes one or more arguments:\n",
    "\n",
    "- The first argument is the probability whose bounds we want to know.\n",
    "- The remaining arguments are the prior probability constraints.\n",
    "\n",
    "The constraints can be specified either as numerical values, for instance of the form\n",
    "```P(...) == 0.3```\n",
    "or as equalities between probabilities of the form\n",
    "```P(...) == P(...)```\n",
    "or for instance\n",
    "```P(...) == P(...) * 2```\n",
    "\n",
    "`findP()` returns the lower and upper bounds of the sought probability, or `NA` if the prior probability constraints are inconsistent.\n",
    "\n",
    "The probabilities in the arguments are written with the following syntax:\n",
    "\n",
    "- \"not\" ¬ is represented by `!`\n",
    "- \"and\" ∧ is represented by `&` or `&&`\n",
    "- \"or\" ∨ is representedy by `|` (sadly) or `||`\n",
    "- the conditional bar \"|\" is represented by `~`\n",
    "\n",
    "Sentences can be represented by any variable names beginning with letters. Instead of \"P\" you can also use \"Pr\", \"p\", \"pr\".\n",
    "\n",
    "If the conditional `~ ...` is a term in common to all probability expressions, it can be omitted.\n",
    "\n",
    "\n",
    "Trivial example, with no constraints. The conditional is assumed understood:"
   ]
  },
  {
   "cell_type": "code",
   "execution_count": 9,
   "id": "d5360344",
   "metadata": {},
   "outputs": [
    {
     "data": {
      "text/html": [
       "<style>\n",
       ".dl-inline {width: auto; margin:0; padding: 0}\n",
       ".dl-inline>dt, .dl-inline>dd {float: none; width: auto; display: inline-block}\n",
       ".dl-inline>dt::after {content: \":\\0020\"; padding-right: .5ex}\n",
       ".dl-inline>dt:not(:first-of-type) {padding-left: .5ex}\n",
       "</style><dl class=dl-inline><dt>min</dt><dd>0</dd><dt>max</dt><dd>1</dd></dl>\n"
      ],
      "text/latex": [
       "\\begin{description*}\n",
       "\\item[min] 0\n",
       "\\item[max] 1\n",
       "\\end{description*}\n"
      ],
      "text/markdown": [
       "min\n",
       ":   0max\n",
       ":   1\n",
       "\n"
      ],
      "text/plain": [
       "min max \n",
       "  0   1 "
      ]
     },
     "metadata": {},
     "output_type": "display_data"
    }
   ],
   "source": [
    "findP(\n",
    "    P(x)\n",
    ")"
   ]
  },
  {
   "cell_type": "markdown",
   "id": "50efa504",
   "metadata": {},
   "source": [
    "Same example, writing the conditional explicitly:"
   ]
  },
  {
   "cell_type": "code",
   "execution_count": 6,
   "id": "59024b64",
   "metadata": {},
   "outputs": [
    {
     "data": {
      "text/html": [
       "<style>\n",
       ".dl-inline {width: auto; margin:0; padding: 0}\n",
       ".dl-inline>dt, .dl-inline>dd {float: none; width: auto; display: inline-block}\n",
       ".dl-inline>dt::after {content: \":\\0020\"; padding-right: .5ex}\n",
       ".dl-inline>dt:not(:first-of-type) {padding-left: .5ex}\n",
       "</style><dl class=dl-inline><dt>min</dt><dd>0</dd><dt>max</dt><dd>1</dd></dl>\n"
      ],
      "text/latex": [
       "\\begin{description*}\n",
       "\\item[min] 0\n",
       "\\item[max] 1\n",
       "\\end{description*}\n"
      ],
      "text/markdown": [
       "min\n",
       ":   0max\n",
       ":   1\n",
       "\n"
      ],
      "text/plain": [
       "min max \n",
       "  0   1 "
      ]
     },
     "metadata": {},
     "output_type": "display_data"
    }
   ],
   "source": [
    "findP(\n",
    "    P(x ~ I)\n",
    ")"
   ]
  },
  {
   "cell_type": "markdown",
   "id": "6d56dfd7",
   "metadata": {},
   "source": [
    "Simple example with one constraint; the value of the probability is uniquely determined:"
   ]
  },
  {
   "cell_type": "code",
   "execution_count": 10,
   "id": "cd7557b5",
   "metadata": {},
   "outputs": [
    {
     "data": {
      "text/html": [
       "<style>\n",
       ".dl-inline {width: auto; margin:0; padding: 0}\n",
       ".dl-inline>dt, .dl-inline>dd {float: none; width: auto; display: inline-block}\n",
       ".dl-inline>dt::after {content: \":\\0020\"; padding-right: .5ex}\n",
       ".dl-inline>dt:not(:first-of-type) {padding-left: .5ex}\n",
       "</style><dl class=dl-inline><dt>min</dt><dd>0.3</dd><dt>max</dt><dd>0.3</dd></dl>\n"
      ],
      "text/latex": [
       "\\begin{description*}\n",
       "\\item[min] 0.3\n",
       "\\item[max] 0.3\n",
       "\\end{description*}\n"
      ],
      "text/markdown": [
       "min\n",
       ":   0.3max\n",
       ":   0.3\n",
       "\n"
      ],
      "text/plain": [
       "min max \n",
       "0.3 0.3 "
      ]
     },
     "metadata": {},
     "output_type": "display_data"
    }
   ],
   "source": [
    "findP(\n",
    "    P(!x ~ I),\n",
    "    P(x ~ I) == 0.7\n",
    ")"
   ]
  },
  {
   "cell_type": "markdown",
   "id": "930e0627",
   "metadata": {},
   "source": [
    "Example with inconsistent constraints:"
   ]
  },
  {
   "cell_type": "code",
   "execution_count": 11,
   "id": "28914e0e",
   "metadata": {},
   "outputs": [
    {
     "data": {
      "text/html": [
       "<style>\n",
       ".dl-inline {width: auto; margin:0; padding: 0}\n",
       ".dl-inline>dt, .dl-inline>dd {float: none; width: auto; display: inline-block}\n",
       ".dl-inline>dt::after {content: \":\\0020\"; padding-right: .5ex}\n",
       ".dl-inline>dt:not(:first-of-type) {padding-left: .5ex}\n",
       "</style><dl class=dl-inline><dt>min</dt><dd>&lt;NA&gt;</dd><dt>max</dt><dd>&lt;NA&gt;</dd></dl>\n"
      ],
      "text/latex": [
       "\\begin{description*}\n",
       "\\item[min] <NA>\n",
       "\\item[max] <NA>\n",
       "\\end{description*}\n"
      ],
      "text/markdown": [
       "min\n",
       ":   &lt;NA&gt;max\n",
       ":   &lt;NA&gt;\n",
       "\n"
      ],
      "text/plain": [
       "min max \n",
       " NA  NA "
      ]
     },
     "metadata": {},
     "output_type": "display_data"
    }
   ],
   "source": [
    "findP(\n",
    "    P(x & y ~ I),\n",
    "    P(y ~ I) == 0.2,\n",
    "    P(!y ~ I) == 0.2\n",
    ")"
   ]
  },
  {
   "cell_type": "markdown",
   "id": "6eef58f8",
   "metadata": {},
   "source": [
    "Simple example, \"and\"-rule:"
   ]
  },
  {
   "cell_type": "code",
   "execution_count": 17,
   "id": "06425c27",
   "metadata": {},
   "outputs": [
    {
     "data": {
      "text/html": [
       "<style>\n",
       ".dl-inline {width: auto; margin:0; padding: 0}\n",
       ".dl-inline>dt, .dl-inline>dd {float: none; width: auto; display: inline-block}\n",
       ".dl-inline>dt::after {content: \":\\0020\"; padding-right: .5ex}\n",
       ".dl-inline>dt:not(:first-of-type) {padding-left: .5ex}\n",
       "</style><dl class=dl-inline><dt>min</dt><dd>0.02</dd><dt>max</dt><dd>0.02</dd></dl>\n"
      ],
      "text/latex": [
       "\\begin{description*}\n",
       "\\item[min] 0.02\n",
       "\\item[max] 0.02\n",
       "\\end{description*}\n"
      ],
      "text/markdown": [
       "min\n",
       ":   0.02max\n",
       ":   0.02\n",
       "\n"
      ],
      "text/plain": [
       " min  max \n",
       "0.02 0.02 "
      ]
     },
     "metadata": {},
     "output_type": "display_data"
    }
   ],
   "source": [
    "findP(\n",
    "    P(x & y ~ I),\n",
    "    P(x ~ y & I) == 0.1,\n",
    "    P(y ~ I) == 0.2\n",
    ")"
   ]
  },
  {
   "cell_type": "markdown",
   "id": "76054828",
   "metadata": {},
   "source": [
    "Simple example, conditional probability:"
   ]
  },
  {
   "cell_type": "code",
   "execution_count": 18,
   "id": "8154da37",
   "metadata": {},
   "outputs": [
    {
     "data": {
      "text/html": [
       "<style>\n",
       ".dl-inline {width: auto; margin:0; padding: 0}\n",
       ".dl-inline>dt, .dl-inline>dd {float: none; width: auto; display: inline-block}\n",
       ".dl-inline>dt::after {content: \":\\0020\"; padding-right: .5ex}\n",
       ".dl-inline>dt:not(:first-of-type) {padding-left: .5ex}\n",
       "</style><dl class=dl-inline><dt>min</dt><dd>0.1</dd><dt>max</dt><dd>0.1</dd></dl>\n"
      ],
      "text/latex": [
       "\\begin{description*}\n",
       "\\item[min] 0.1\n",
       "\\item[max] 0.1\n",
       "\\end{description*}\n"
      ],
      "text/markdown": [
       "min\n",
       ":   0.1max\n",
       ":   0.1\n",
       "\n"
      ],
      "text/plain": [
       "min max \n",
       "0.1 0.1 "
      ]
     },
     "metadata": {},
     "output_type": "display_data"
    }
   ],
   "source": [
    "findP(\n",
    "    P(x ~ y),\n",
    "    P(x & y) == 0.02,\n",
    "    P(y) == 0.2\n",
    ")"
   ]
  },
  {
   "cell_type": "markdown",
   "id": "7b8ccc79",
   "metadata": {},
   "source": [
    "## The Monty Hall problem\n",
    "\n",
    "The symbols for the sentences are as follows:\n",
    "\n",
    "- `y1`: you choose door 1 (and analogously for 2 and 3),\n",
    "- `c1`: the car is behind door 1, etc.\n",
    "- `h1`: the host opens door 1, etc.\n",
    "- `I`: Remaining background information.\n",
    "\n",
    "\n",
    "What we want to know is the probability that the car is behind door 1, given that you picked door 1 and the host opened door 2:\n",
    "```\n",
    "P(c1 ~ y1 & h2 & I)\n",
    "```\n",
    "\n",
    "The probability constraints in this problem are commented below."
   ]
  },
  {
   "cell_type": "code",
   "execution_count": 19,
   "id": "feca2482",
   "metadata": {},
   "outputs": [
    {
     "data": {
      "text/html": [
       "<style>\n",
       ".dl-inline {width: auto; margin:0; padding: 0}\n",
       ".dl-inline>dt, .dl-inline>dd {float: none; width: auto; display: inline-block}\n",
       ".dl-inline>dt::after {content: \":\\0020\"; padding-right: .5ex}\n",
       ".dl-inline>dt:not(:first-of-type) {padding-left: .5ex}\n",
       "</style><dl class=dl-inline><dt>min</dt><dd>0.333333333333333</dd><dt>max</dt><dd>0.333333333333333</dd></dl>\n"
      ],
      "text/latex": [
       "\\begin{description*}\n",
       "\\item[min] 0.333333333333333\n",
       "\\item[max] 0.333333333333333\n",
       "\\end{description*}\n"
      ],
      "text/markdown": [
       "min\n",
       ":   0.333333333333333max\n",
       ":   0.333333333333333\n",
       "\n"
      ],
      "text/plain": [
       "     min      max \n",
       "0.333333 0.333333 "
      ]
     },
     "metadata": {},
     "output_type": "display_data"
    }
   ],
   "source": [
    "findP(\n",
    "    p(c1 ~ y1 & h2 & I), # target\n",
    "    p(c1 | c2 | c3 ~ I) == 1, # The car must be behind one of the doors\n",
    "    p(c1 & c2 ~ I) == 0, # The car cannod be both behind doors 1 and 2\n",
    "    p(c1 & c3 ~ I) == 0, # ...etc\n",
    "    p(c2 & c3 ~ I) == 0,\n",
    "    p(h1 & y1 ~ I) == 0, # The host cannot open the door you pick\n",
    "    p(h2 & y2 ~ I) == 0,\n",
    "    p(h3 & y3 ~ I) == 0,\n",
    "    p(h1 & c1 ~ I) == 0, # The host cannot open the door with the car\n",
    "    p(h2 & c2 ~ I) == 0,\n",
    "    p(h3 & c3 ~ I) == 0,\n",
    "    p(h1 & h2 ~ I) == 0, # The host cannot open both doors 1 and 2, etc.\n",
    "    p(h1 & h3 ~ I) == 0,\n",
    "    p(h2 & h3 ~ I) == 0,\n",
    "    p(h1 | h2 | h3 ~ I) == 1, # The host must open one door\n",
    "    p(h2 ~ c1 & y1 & I) == p(h3 ~ c1 & y1 & I), # no reason to believe the host will open 2 more than 3\n",
    "    p(c1 ~ I) == 1/3, # no reason to believe the car initially should be behind a particular door\n",
    "    p(c2 ~ I) == 1/3,\n",
    "    p(c3 ~ I) == 1/3,\n",
    "    p(c1 ~ y1 & I) == 1/3, # same is true after you picked a door\n",
    "    p(c2 ~ y1 & I) == 1/3,\n",
    "    p(c3 ~ y1 & I) == 1/3\n",
    " )"
   ]
  },
  {
   "cell_type": "markdown",
   "id": "6aabc8eb",
   "metadata": {},
   "source": [
    "Boolean logic is included as a special case:"
   ]
  },
  {
   "cell_type": "code",
   "execution_count": 22,
   "id": "65b4573c",
   "metadata": {},
   "outputs": [
    {
     "data": {
      "text/html": [
       "<style>\n",
       ".dl-inline {width: auto; margin:0; padding: 0}\n",
       ".dl-inline>dt, .dl-inline>dd {float: none; width: auto; display: inline-block}\n",
       ".dl-inline>dt::after {content: \":\\0020\"; padding-right: .5ex}\n",
       ".dl-inline>dt:not(:first-of-type) {padding-left: .5ex}\n",
       "</style><dl class=dl-inline><dt>min</dt><dd>0</dd><dt>max</dt><dd>0</dd></dl>\n"
      ],
      "text/latex": [
       "\\begin{description*}\n",
       "\\item[min] 0\n",
       "\\item[max] 0\n",
       "\\end{description*}\n"
      ],
      "text/markdown": [
       "min\n",
       ":   0max\n",
       ":   0\n",
       "\n"
      ],
      "text/plain": [
       "min max \n",
       "  0   0 "
      ]
     },
     "metadata": {},
     "output_type": "display_data"
    }
   ],
   "source": [
    "findP(\n",
    "    P(!x & y),\n",
    "    P(x) == 1,\n",
    "    P(y) == 1\n",
    ")"
   ]
  },
  {
   "cell_type": "code",
   "execution_count": null,
   "id": "81222017",
   "metadata": {},
   "outputs": [],
   "source": []
  }
 ],
 "metadata": {
  "kernelspec": {
   "display_name": "R",
   "language": "R",
   "name": "ir"
  },
  "language_info": {
   "codemirror_mode": "r",
   "file_extension": ".r",
   "mimetype": "text/x-r-source",
   "name": "R",
   "pygments_lexer": "r",
   "version": "4.5.1"
  }
 },
 "nbformat": 4,
 "nbformat_minor": 5
}
